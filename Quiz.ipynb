{
  "nbformat": 4,
  "nbformat_minor": 0,
  "metadata": {
    "colab": {
      "name": "Quiz.ipynb",
      "provenance": [],
      "authorship_tag": "ABX9TyPgCeCeANZfPw4pZZNAa6dj",
      "include_colab_link": true
    },
    "kernelspec": {
      "name": "python3",
      "display_name": "Python 3"
    }
  },
  "cells": [
    {
      "cell_type": "markdown",
      "metadata": {
        "id": "view-in-github",
        "colab_type": "text"
      },
      "source": [
        "<a href=\"https://colab.research.google.com/github/rachel1818/Quiz/blob/main/Quiz.ipynb\" target=\"_parent\"><img src=\"https://colab.research.google.com/assets/colab-badge.svg\" alt=\"Open In Colab\"/></a>"
      ]
    },
    {
      "cell_type": "code",
      "metadata": {
        "id": "CkmIF8lP22gg"
      },
      "source": [
        "import json,os\n",
        "from tkinter import *\n",
        "from tkinter import messagebox\n",
        "import json\n",
        "import random"
      ],
      "execution_count": null,
      "outputs": []
    },
    {
      "cell_type": "code",
      "metadata": {
        "id": "KdGrhwS25ie1"
      },
      "source": [
        "def inputInt(prompt):\n",
        "    while True:\n",
        "        try:\n",
        "            temp = int(input(prompt))    \n",
        "            return temp\n",
        "        except:\n",
        "            continue"
      ],
      "execution_count": null,
      "outputs": []
    },
    {
      "cell_type": "code",
      "metadata": {
        "id": "Bl7uI0-T519G"
      },
      "source": [
        "def inputSomething(prompt):\n",
        "    global data_list\n",
        "    question = input(prompt)\n",
        "    return question"
      ],
      "execution_count": null,
      "outputs": []
    },
    {
      "cell_type": "code",
      "metadata": {
        "id": "f7qHtYC9Rljo"
      },
      "source": [
        "from google.colab import drive\n",
        "drive.mount('/content/drive')"
      ],
      "execution_count": null,
      "outputs": []
    },
    {
      "cell_type": "code",
      "metadata": {
        "id": "RLankv0mNol7"
      },
      "source": [
        "from google.colab import files\n",
        "uploaded = files.upload()\n"
      ],
      "execution_count": null,
      "outputs": []
    },
    {
      "cell_type": "code",
      "metadata": {
        "id": "WeSyQXfQ57WG"
      },
      "source": [
        "def saveChanges(dataList):\n",
        "    with open('data.txt', 'w') as outfile:\n",
        "        json.dump(dataList, outfile)\n",
        "data_text_file = open(\"data.txt\", \"r\")\n",
        "print(data_text_file.read()) "
      ],
      "execution_count": null,
      "outputs": []
    },
    {
      "cell_type": "code",
      "metadata": {
        "id": "acYvBBt_UKFn"
      },
      "source": [
        "print('Welcome to the Quizle Admin Program.')"
      ],
      "execution_count": null,
      "outputs": []
    },
    {
      "cell_type": "code",
      "metadata": {
        "id": "v55aO4sKULw5"
      },
      "source": [
        "with open('data.txt','r') as data_file:    \n",
        "    data_text_file = json.load(data_file)\n",
        "current_ques_list = []"
      ],
      "execution_count": null,
      "outputs": []
    },
    {
      "cell_type": "code",
      "metadata": {
        "id": "dZYMj1CQ8KAS"
      },
      "source": [
        "while True:\n",
        "\n",
        "    data_list = []\n",
        "    print('Choose [a]dd, [l]ist, [s]earch, [v]iew, [d]elete or [q]uit.')\n",
        "    choice = input('> ').strip()\n",
        "    try:\n",
        "        if(type(choice)!='str'):\n",
        "            raise Exception\n",
        "    except Exception:\n",
        "        if choice == 'a':\n",
        "            # Add a new question.\n",
        "            # See Point 3 of the \"Requirements of admin.py\" section of the  brief.\n",
        "            \n",
        "            question = str(inputSomething(\"Enter the question: \").strip()).lower()\n",
        "            while True:\n",
        "                if(question == \"\"):\n",
        "                    question =str(inputSomething(\"Enter the question: \").strip()).lower()\n",
        "                else:\n",
        "                    break\n",
        "\n",
        "\n",
        "            answer = []\n",
        "            while True:\n",
        "                x = str(input(\"Enter a valid answer (enter 'q' when done):\").strip()).lower()\n",
        "                if(x==''):\n",
        "                    continue\n",
        "                elif(x!='' and x!='q'):\n",
        "                    answer.append(x)\n",
        "                elif(x=='q' and len(answer)!=0):\n",
        "                    break\n",
        "                \n",
        "            temp = inputInt('Enter question difficulty (1-5)')\n",
        "            while True:\n",
        "                if(temp < 1 or temp >5):\n",
        "\n",
        "                    print(\"Invalid value. Must be an integer between 1 and 5\")\n",
        "                    temp = inputInt('Enter question difficulty (1-5)')\n",
        "                else:\n",
        "                    break\n",
        "\n",
        "            \n",
        "            diff = temp\n",
        "        \n",
        "            final_object = {'question':question,'answer':answer,'diff_level':diff}\n",
        "            data_list.append(final_object)\n",
        "            current_ques_list.append(final_object)\n",
        "            if(os.stat(\"data.txt\").st_size == 0):\n",
        "                saveChanges(data_list)\n",
        "            else:\n",
        "                #with open('data.txt','r') as data_file:    \n",
        "                #    data = json.load(data_file)\n",
        "\n",
        "                #print(data_text_file)\n",
        "                for i in data_list:\n",
        "                    data_text_file.append(i)\n",
        "                saveChanges(data_text_file)\n",
        "            \n",
        "        \n",
        "        elif choice == 'l':\n",
        "            # List the current questions.\n",
        "            # See Point 4 of the \"Requirements of admin.py\" section of the  brief.\n",
        "            if(len(current_ques_list)==0):\n",
        "                print(\"No questions saved\")\n",
        "            else:\n",
        "                print(\"Current Question:\")\n",
        "                for i in range(0,len(current_ques_list)):\n",
        "                    print('\\t',i+1,\")\",current_ques_list[i]['question'])    \n",
        "\n",
        "\n",
        "\n",
        "        elif choice == 's':\n",
        "            # Search the current questions.\n",
        "            # See Point 5 of the \"Requirements of admin.py\" section of the  brief.\n",
        "            search_term = inputSomething(\"Enter a search term: \").strip()\n",
        "            \n",
        "            \n",
        "            for i in range(len(current_ques_list)):\n",
        "                if search_term in current_ques_list[i]['question']:\n",
        "                    print(\"Search results:\")\n",
        "                    print('\\t',i+1,')',current_ques_list[i]['question'])\n",
        "        \n",
        "\n",
        "\n",
        "        elif choice == 'v':\n",
        "            # View a question.\n",
        "            # See Point 6 of the \"Requirements of admin.py\" section of the  brief.\n",
        "            view_index = inputInt('Question number to view: ')\n",
        "            \n",
        "            try:\n",
        "                req_data = current_ques_list[view_index-1]\n",
        "                print(\"Question:\")\n",
        "                print(\"\\t\",req_data['question'])\n",
        "                print(\"\\t\",\"Valid Answers: \",', '.join(req_data['answer']))\n",
        "                print(\"\\t\",\"Difficulty: \",req_data[\"diff_level\"])\n",
        "                \n",
        "            except:\n",
        "                print(\"Invalid index number\")\n",
        "\n",
        "            \n",
        "\n",
        "        elif choice == 'd':\n",
        "            # Delete a question.\n",
        "            # See Point 7 of the \"Requirements of admin.py\" section of the  brief.\n",
        "            try:\n",
        "                del_index = int(inputInt('Question number to delete: '))-1\n",
        "                if(del_index+1>len(current_ques_list)):\n",
        "                    print(\"Invalid index number\")\n",
        "                else:\n",
        "                    del_question = current_ques_list.pop(del_index)\n",
        "                    \n",
        "                    #saveChanges(current_ques_list)\n",
        "                    \n",
        "                    #with open('data.txt','r') as data_file:    \n",
        "                    #    temp_list = json.load(data_file)\n",
        "                    #print(data_text_file)\n",
        "                    for i in range(len(data_text_file)):\n",
        "                        if(data_text_file[i]['question']==del_question['question']):\n",
        "                            del data_text_file[i]\n",
        "                    \n",
        "                    \n",
        "                    \n",
        "                    try:\n",
        "                        #print('try',data_text_file)\n",
        "                        with open('data.txt', 'w') as outfile:\n",
        "                            json.dump(data_text_file, outfile)\n",
        "                    \n",
        "                    except:\n",
        "                        print(\"Invalid index number\")\n",
        "            except:\n",
        "                pass\n",
        "\n",
        "\n",
        "\n",
        "        elif choice == 'q':\n",
        "            # Quit the program.\n",
        "            # See Point 8 of the \"Requirements of admin.py\" section of the  brief.\n",
        "            print(\"GoodBye!\")\n",
        "            break\n",
        "\n",
        "\n",
        "\n",
        "        else:\n",
        "            # Print \"invalid choice\" message.\n",
        "            # See Point 9 of the \"Requirements of admin.py\" section of the  brief.\n",
        "            print(\"Invalid choice\")\n",
        "            continue"
      ],
      "execution_count": null,
      "outputs": []
    },
    {
      "cell_type": "code",
      "metadata": {
        "id": "P3SDMNXgW8ZQ"
      },
      "source": [
        "class ProgramGUI:\n",
        "\n",
        "    def __init__(self,master):\n",
        "        # This is the constructor of the class.\n",
        "        # It is responsible for loading and reading the data file and creating the user interface.\n",
        "        # See Points 1 to 6 \"Constructor of the GUI Class of quizle.py\" section of the  brief. \n",
        "        self.master = master\n",
        "        master.title(\"Quizle\")\n",
        "        master.minsize(width=400,height=150)\n",
        "        frame = Frame(master)\n",
        "        frame.pack()\n",
        "\n",
        "        try:\n",
        "            with open('data.txt','r') as data_file:\n",
        "                self.data = json.load(data_file)\n",
        "        except:\n",
        "            print(\"Missing/Invalid file\")\n",
        "            master.destroy()\n",
        "            return    \n",
        "\n",
        "        if len(self.data)<5:\n",
        "            messagebox.showerror(\"Error\",\"Insufficient number of questions\")\n",
        "            master.destroy()\n",
        "            return\n",
        "       \n",
        "        self.user_score = 0\n",
        "        self.no_of_question_answered = 0\n",
        "        self.correct_question = 0\n",
        "        self.instance = 0\n",
        "        self.diff_level_value = 0\n",
        "\n",
        "        self.diifficulty_level = Label(frame)\n",
        "        self.diifficulty_level.grid(row=1,columnspan=2,padx=20,pady=10)\n",
        "\n",
        "        self.question = Label(frame)\n",
        "        self.question.grid(row=2,columnspan=2,padx=20,pady=10)\n",
        "\n",
        "        self.question_entry = Entry(frame)\n",
        "        self.question_entry.grid(row=3)\n",
        "        \n",
        "        self.button = Button(frame,text=\"Submit Answer\",command=self.checkAnswer)\n",
        "        self.button.grid(row=3,column=1)\n",
        "    \n",
        "        self.question_status = Label(frame)\n",
        "        self.question_status.grid(row=4,columnspan=2,padx=20,pady=10)\n",
        "\n",
        "        self.loadQuestion()\n",
        "\n",
        "\n",
        "\n",
        "       \n",
        "    def loadQuestion(self):\n",
        "        # This method is responsible for displaying a question in the GUI,\n",
        "        # as well as showing the special message for difficult questions and showing the user's current progress \n",
        "        # See Point 1 of the \"Methods in the GUI Class of quizle.py\" section of the  brief.\n",
        "        self.question_entry.focus_set()\n",
        "        if self.instance == 0:\n",
        "            \n",
        "            self.current_question_set = random.sample(self.data,5)\n",
        "        \n",
        "        question = random.choice(self.current_question_set)\n",
        "            \n",
        "        self.current_question = question['question']\n",
        "        self.diff_level_value = int(question['diff_level'])\n",
        "\n",
        "        if(int(question['diff_level'])>=4):\n",
        "\n",
        "            self.diifficulty_level.grid(row=1,columnspan=2,padx=20,pady=10)\n",
        "\n",
        "            self.diifficulty_level.config(text=\"This is a hard one - good luck!\",fg=\"blue\")\n",
        "        else:\n",
        "            self.diifficulty_level.grid_forget()\n",
        "            \n",
        "        self.question.config(text=self.current_question)\n",
        "        self.question_status.config(text=\"%s/%s questions answered correctly\"%(self.correct_question,self.no_of_question_answered))\n",
        "        self.question_answer  = question['answer']\n",
        "        \n",
        "        self.current_question_set.remove(question)\n",
        "        \n",
        "        print(self.current_question_set)\n",
        "\n",
        "    def checkAnswer(self):\n",
        "        # This method is responsible for determining whether the user's answer is correct and showing a Correct/Incorrect messagebox.\n",
        "        # It also checks how many questions have been asked to determine whether or not to end the game.\n",
        "        # See Point 2 of the \"Methods in the GUI Class of quizle.py\" section of the a brief.\n",
        "        self.no_of_question_answered += 1\n",
        "        if type(self.question_entry.get()) == str:\n",
        "            user_answer = str(self.question_entry.get()).lower()\n",
        "        else:\n",
        "            user_answer = self.question_entry.get()\n",
        "\n",
        "        if user_answer in self.question_answer:\n",
        "            self.correct_question +=1\n",
        "            self.user_score +=self.diff_level_value*2\n",
        "            messagebox.showwarning(\"Correct\",\"You are correct!\")\n",
        "        else:\n",
        "            messagebox.showerror(\"Incorrect\",\"Sorry,that was incorrect!\")\n",
        "        \n",
        "        print('ques',self.no_of_question_answered)\n",
        "        if self.no_of_question_answered == 5:\n",
        "            print('yo:',self.no_of_question_answered)\n",
        "            messagebox.showwarning(\"Final Score\",\"Game Over \\n Final Score: %s \\n\\n Thanks for playing\" %(self.user_score))\n",
        "            self.master.destroy()\n",
        "        else:\n",
        "            self.instance +=1\n",
        "            self.question_entry.delete(0, 'end')\n",
        "            self.loadQuestion()\n",
        "      \n",
        "      "
      ],
      "execution_count": null,
      "outputs": []
    },
    {
      "cell_type": "code",
      "metadata": {
        "id": "8EK_bh0RZHAb"
      },
      "source": [
        "!apt-get install python3-tk"
      ],
      "execution_count": null,
      "outputs": []
    },
    {
      "cell_type": "code",
      "metadata": {
        "id": "XKeSIpY-bMwL"
      },
      "source": [
        "import matplotlib\n",
        "matplotlib.use('Agg')"
      ],
      "execution_count": null,
      "outputs": []
    },
    {
      "cell_type": "code",
      "metadata": {
        "id": "gMD3AOhibD1i"
      },
      "source": [
        "import os\n",
        "import matplotlib as mpl\n",
        "if os.environ.get('DISPLAY','') == '':\n",
        "    print('no display found. Using non-interactive Agg backend')\n",
        "    mpl.use('Agg')\n",
        "import matplotlib.pyplot as plt"
      ],
      "execution_count": null,
      "outputs": []
    },
    {
      "cell_type": "code",
      "metadata": {
        "id": "gYrtMaFRYkZu"
      },
      "source": [
        "# Create an object of the ProgramGUI class to begin the program.\n",
        "root = Tk(screenName=None, baseName=None, className='Tk', useTk=1, sync=0, use=None)\n",
        "gui = ProgramGUI(root)\n",
        "root.mainloop()"
      ],
      "execution_count": null,
      "outputs": []
    }
  ]
}